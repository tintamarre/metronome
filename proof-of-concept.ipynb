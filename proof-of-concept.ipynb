{
 "cells": [
  {
   "cell_type": "code",
   "execution_count": 24,
   "metadata": {},
   "outputs": [
    {
     "name": "stdout",
     "output_type": "stream",
     "text": [
      "0---x---x---x---|\n",
      "0---x---x---x---|\n",
      "0---x---x---x---|\n",
      "0---x---x---x---|\n",
      "0---x---x---x---|\n",
      "0---x---x---x---|\n",
      "0---x---x---x---|\n",
      "0---x---x---x---|\n",
      "0---x---x---"
     ]
    },
    {
     "ename": "KeyboardInterrupt",
     "evalue": "",
     "output_type": "error",
     "traceback": [
      "\u001b[0;31m---------------------------------------------------------------------------\u001b[0m",
      "\u001b[0;31mKeyboardInterrupt\u001b[0m                         Traceback (most recent call last)",
      "Cell \u001b[0;32mIn[24], line 49\u001b[0m\n\u001b[1;32m     46\u001b[0m             time\u001b[39m.\u001b[39msleep(ms_btw_beats \u001b[39m/\u001b[39m \u001b[39m1000\u001b[39m)      \n\u001b[1;32m     47\u001b[0m         \u001b[39mprint\u001b[39m(\u001b[39m'\u001b[39m\u001b[39m|\u001b[39m\u001b[39m'\u001b[39m)   \n\u001b[0;32m---> 49\u001b[0m launch_metronome(\u001b[39m140\u001b[39;49m)\n",
      "Cell \u001b[0;32mIn[24], line 46\u001b[0m, in \u001b[0;36mlaunch_metronome\u001b[0;34m(bpm, beats)\u001b[0m\n\u001b[1;32m     44\u001b[0m \u001b[39mfor\u001b[39;00m i \u001b[39min\u001b[39;00m \u001b[39mrange\u001b[39m(beats):\n\u001b[1;32m     45\u001b[0m     \u001b[39mprint\u001b[39m(\u001b[39m'\u001b[39m\u001b[39mx\u001b[39m\u001b[39m'\u001b[39m, end\u001b[39m=\u001b[39m\u001b[39m\"\u001b[39m\u001b[39m---\u001b[39m\u001b[39m\"\u001b[39m)\n\u001b[0;32m---> 46\u001b[0m     time\u001b[39m.\u001b[39msleep(ms_btw_beats \u001b[39m/\u001b[39m \u001b[39m1000\u001b[39m)      \n\u001b[1;32m     47\u001b[0m \u001b[39mprint\u001b[39m(\u001b[39m'\u001b[39m\u001b[39m|\u001b[39m\u001b[39m'\u001b[39m)\n",
      "\u001b[0;31mKeyboardInterrupt\u001b[0m: "
     ]
    }
   ],
   "source": [
    "import time, sys\n",
    "# Settings\n",
    "\n",
    "# bpm = [40, 42, 44, 46, 48, 50, 52, 54, 56, 58, 60, 63, 66, 69, 72, 76, 80, 84, 88, 92, 96, 100, 104, 108, 112, 116, 120, 126, 132, 138, 144, 152, 160, 168, 176, 184, 192, 200, 208]\n",
    "\n",
    "# name between 40 and 60 = slow\n",
    "\n",
    "named_bpm = {\n",
    "    'largo': [40, 42, 44, 46, 48, 50, 52, 54, 56, 58],\n",
    "    'larghetto': [60, 63],\n",
    "    'adagio': [66, 69, 72],\n",
    "    'andante': [76, 80, 84, 92, 96, 100, 104],\n",
    "    'moderato': [108, 112, 116],\n",
    "    'allegro': [120, 126, 132, 138, 144, 152, 160],\n",
    "    'presto': [168, 176, 184, 192],\n",
    "    'prestissimo': [200, 208]\n",
    "}\n",
    "\n",
    "# array of all possible bpm\n",
    "bpm = []\n",
    "for key in named_bpm:\n",
    "    bpm += named_bpm[key]\n",
    "\n",
    "# array of all possible\n",
    "# print(bpm)\n",
    "\n",
    "beats = [2, 3, 4]\n",
    "\n",
    "def get_milliseconds(bpm):\n",
    "    # 60 seconds in a minute\n",
    "    # x bpm = x beats per minute\n",
    "    # 60 / x = 1 beat per x seconds\n",
    "    # count number of milliseconds between beats\n",
    "    return 60 / bpm * 1000\n",
    "    \n",
    "def launch_metronome(bpm, beats=4):\n",
    "    # get milliseconds between beats\n",
    "    ms_btw_beats = get_milliseconds(bpm)  \n",
    "    beats = beats - 1\n",
    "    # start metronome\n",
    "    while True:\n",
    "        print('0', end=\"---\"),\n",
    "        time.sleep(ms_btw_beats / 1000)\n",
    "        for i in range(beats):\n",
    "            print('x', end=\"---\")\n",
    "            time.sleep(ms_btw_beats / 1000)      \n",
    "        print('|')   \n",
    "\n",
    "launch_metronome(140)\n"
   ]
  }
 ],
 "metadata": {
  "kernelspec": {
   "display_name": "Python 3",
   "language": "python",
   "name": "python3"
  },
  "language_info": {
   "codemirror_mode": {
    "name": "ipython",
    "version": 3
   },
   "file_extension": ".py",
   "mimetype": "text/x-python",
   "name": "python",
   "nbconvert_exporter": "python",
   "pygments_lexer": "ipython3",
   "version": "3.11.2"
  },
  "orig_nbformat": 4
 },
 "nbformat": 4,
 "nbformat_minor": 2
}
